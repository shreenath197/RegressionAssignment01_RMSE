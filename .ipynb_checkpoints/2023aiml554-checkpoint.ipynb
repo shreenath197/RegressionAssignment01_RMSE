{
 "cells": [
  {
   "cell_type": "markdown",
   "id": "5efc129e-e7b8-42f0-97ed-19b58d58722b",
   "metadata": {},
   "source": [
    "# Q2.Solve the following matrix using simultaneous equations in python\n",
    "                    6x+2y−5z=13,3x+3y−2z=13,7x+5y−3z=26\n"
   ]
  },
  {
   "cell_type": "code",
   "execution_count": 1,
   "id": "2de0efdb",
   "metadata": {},
   "outputs": [],
   "source": [
    "import numpy as np"
   ]
  },
  {
   "cell_type": "code",
   "execution_count": 2,
   "id": "2e000903",
   "metadata": {},
   "outputs": [],
   "source": [
    "coeff=[[6,2,-5],[3,3,-2],[7,5,-3]]\n",
    "coeff_array=np.array(coeff)"
   ]
  },
  {
   "cell_type": "code",
   "execution_count": 3,
   "id": "1b8fb1dd",
   "metadata": {},
   "outputs": [],
   "source": [
    "const=[13,13,26]\n",
    "const_array=np.array(const)"
   ]
  },
  {
   "cell_type": "code",
   "execution_count": 4,
   "id": "c63ec17a",
   "metadata": {},
   "outputs": [],
   "source": [
    "inverse_Array=np.linalg.inv(coeff_array)  #AX=B, X=(A-1) B\n",
    "linalgSolution=np.dot(inverse_Array,const_array)"
   ]
  },
  {
   "cell_type": "code",
   "execution_count": 5,
   "id": "851ad562-d8c2-40a1-898f-16bf1a0291ef",
   "metadata": {},
   "outputs": [
    {
     "data": {
      "text/plain": [
       "array([2., 3., 1.])"
      ]
     },
     "execution_count": 5,
     "metadata": {},
     "output_type": "execute_result"
    }
   ],
   "source": [
    "linalgSolution"
   ]
  },
  {
   "cell_type": "code",
   "execution_count": 6,
   "id": "3d50df61-3657-4c0e-88eb-c5480d727188",
   "metadata": {},
   "outputs": [
    {
     "name": "stdout",
     "output_type": "stream",
     "text": [
      "Value of x: 2\n",
      "Value of y: 3\n",
      "Value of z: 1\n"
     ]
    }
   ],
   "source": [
    "print(\"Value of x: {}\".format(round(linalgSolution[0])))\n",
    "print(\"Value of y: {}\".format(round(linalgSolution[1])))\n",
    "print(\"Value of z: {}\".format(round(linalgSolution[2])))"
   ]
  }
 ],
 "metadata": {
  "kernelspec": {
   "display_name": "Python 3 (ipykernel)",
   "language": "python",
   "name": "python3"
  },
  "language_info": {
   "codemirror_mode": {
    "name": "ipython",
    "version": 3
   },
   "file_extension": ".py",
   "mimetype": "text/x-python",
   "name": "python",
   "nbconvert_exporter": "python",
   "pygments_lexer": "ipython3",
   "version": "3.12.2"
  }
 },
 "nbformat": 4,
 "nbformat_minor": 5
}
